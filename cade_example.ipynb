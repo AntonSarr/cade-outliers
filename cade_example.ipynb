{
 "cells": [
  {
   "cell_type": "code",
   "execution_count": 1,
   "metadata": {},
   "outputs": [],
   "source": [
    "import numpy as np\n",
    "\n",
    "from sklearn.datasets import fetch_kddcup99\n",
    "from sklearn.metrics import roc_auc_score\n",
    "from sklearn.ensemble import RandomForestClassifier\n",
    "\n",
    "from src.cade_outliers import CADEOutliers"
   ]
  },
  {
   "cell_type": "code",
   "execution_count": 8,
   "metadata": {},
   "outputs": [],
   "source": [
    "# Download the KDD Cup 99 dataset containing the data about cyber attacks\n",
    "X, y = fetch_kddcup99(subset='SA', return_X_y=True, percent10=True, shuffle=True)"
   ]
  },
  {
   "cell_type": "code",
   "execution_count": 9,
   "metadata": {},
   "outputs": [],
   "source": [
    "# Convert target from object to int. Every not \"normal\" target is anomaly\n",
    "y = 1 - (y == b'normal.').astype('int')"
   ]
  },
  {
   "cell_type": "code",
   "execution_count": 10,
   "metadata": {},
   "outputs": [],
   "source": [
    "# Drop object columns and convert everything to float\n",
    "X_cut = X[:, np.append(0, np.arange(4, 41))].astype('float')"
   ]
  },
  {
   "cell_type": "code",
   "execution_count": 11,
   "metadata": {},
   "outputs": [],
   "source": [
    "# Create CADE outliers object with uniform distribution of artifical anomalies and with size of 50% of the given dataset\n",
    "cade = CADEOutliers(\n",
    "    classifier=RandomForestClassifier(max_depth=2), \n",
    "    A_dist='uniform', \n",
    "    A_size=0.5\n",
    ")"
   ]
  },
  {
   "cell_type": "code",
   "execution_count": 12,
   "metadata": {},
   "outputs": [],
   "source": [
    "ranking_by_dens = cade.outliers_ranking(X_cut)"
   ]
  },
  {
   "cell_type": "code",
   "execution_count": 13,
   "metadata": {},
   "outputs": [
    {
     "name": "stdout",
     "output_type": "stream",
     "text": [
      "ROC AUC of ranking anomalies by CADE: 0.7786877779701831\n"
     ]
    }
   ],
   "source": [
    "print('ROC AUC of ranking anomalies by CADE: {}'.format(roc_auc_score(y, -ranking_by_dens)))"
   ]
  }
 ],
 "metadata": {
  "kernelspec": {
   "display_name": "Python 3",
   "language": "python",
   "name": "python3"
  },
  "language_info": {
   "codemirror_mode": {
    "name": "ipython",
    "version": 3
   },
   "file_extension": ".py",
   "mimetype": "text/x-python",
   "name": "python",
   "nbconvert_exporter": "python",
   "pygments_lexer": "ipython3",
   "version": "3.7.6"
  }
 },
 "nbformat": 4,
 "nbformat_minor": 4
}
